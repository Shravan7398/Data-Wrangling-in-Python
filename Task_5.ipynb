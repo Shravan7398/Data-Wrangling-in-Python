{
  "nbformat": 4,
  "nbformat_minor": 0,
  "metadata": {
    "colab": {
      "name": "Task#5.ipynb",
      "provenance": [],
      "authorship_tag": "ABX9TyPoK3ypXAw0G0I/indWzX3H",
      "include_colab_link": true
    },
    "kernelspec": {
      "name": "python3",
      "display_name": "Python 3"
    }
  },
  "cells": [
    {
      "cell_type": "markdown",
      "metadata": {
        "id": "view-in-github",
        "colab_type": "text"
      },
      "source": [
        "<a href=\"https://colab.research.google.com/github/Shravan7398/Internship-Task/blob/master/Task_5.ipynb\" target=\"_parent\"><img src=\"https://colab.research.google.com/assets/colab-badge.svg\" alt=\"Open In Colab\"/></a>"
      ]
    },
    {
      "cell_type": "markdown",
      "metadata": {
        "id": "ss5HeWwrx5X4",
        "colab_type": "text"
      },
      "source": [
        " **AIM : To explore Business Analytics**"
      ]
    },
    {
      "cell_type": "markdown",
      "metadata": {
        "id": "XOy47-cCzfUs",
        "colab_type": "text"
      },
      "source": [
        "Description : Dataset of super store is provided in this task. This dataset is analysed on various parameters using python language."
      ]
    },
    {
      "cell_type": "markdown",
      "metadata": {
        "id": "y1D5TDvPz98h",
        "colab_type": "text"
      },
      "source": [
        "**Importing Libraries**"
      ]
    },
    {
      "cell_type": "code",
      "metadata": {
        "id": "CrKbEsO7qL1O",
        "colab_type": "code",
        "colab": {}
      },
      "source": [
        "#importing libraries\n",
        "import pandas as pd\n",
        "import numpy as np\n",
        "import matplotlib.pyplot as plt\n"
      ],
      "execution_count": null,
      "outputs": []
    },
    {
      "cell_type": "markdown",
      "metadata": {
        "id": "5PaL7H550D6B",
        "colab_type": "text"
      },
      "source": [
        "**Loading the superstore dataset**"
      ]
    },
    {
      "cell_type": "code",
      "metadata": {
        "id": "kWTElowHs_O-",
        "colab_type": "code",
        "colab": {
          "base_uri": "https://localhost:8080/",
          "height": 195
        },
        "outputId": "69beb3f3-0893-4f6b-9a2e-47bb3f56bad4"
      },
      "source": [
        "#Loading the dataset\n",
        "url = \"https://raw.githubusercontent.com/Shravan7398/Internship-Task/master/SampleSuperstore.csv\"\n",
        "data = pd.read_csv(url)\n",
        "data.head(5)\n",
        "\n"
      ],
      "execution_count": null,
      "outputs": [
        {
          "output_type": "execute_result",
          "data": {
            "text/html": [
              "<div>\n",
              "<style scoped>\n",
              "    .dataframe tbody tr th:only-of-type {\n",
              "        vertical-align: middle;\n",
              "    }\n",
              "\n",
              "    .dataframe tbody tr th {\n",
              "        vertical-align: top;\n",
              "    }\n",
              "\n",
              "    .dataframe thead th {\n",
              "        text-align: right;\n",
              "    }\n",
              "</style>\n",
              "<table border=\"1\" class=\"dataframe\">\n",
              "  <thead>\n",
              "    <tr style=\"text-align: right;\">\n",
              "      <th></th>\n",
              "      <th>Ship Mode</th>\n",
              "      <th>Segment</th>\n",
              "      <th>Country</th>\n",
              "      <th>City</th>\n",
              "      <th>State</th>\n",
              "      <th>Postal Code</th>\n",
              "      <th>Region</th>\n",
              "      <th>Category</th>\n",
              "      <th>Sub-Category</th>\n",
              "      <th>Sales</th>\n",
              "      <th>Quantity</th>\n",
              "      <th>Discount</th>\n",
              "      <th>Profit</th>\n",
              "    </tr>\n",
              "  </thead>\n",
              "  <tbody>\n",
              "    <tr>\n",
              "      <th>0</th>\n",
              "      <td>Second Class</td>\n",
              "      <td>Consumer</td>\n",
              "      <td>United States</td>\n",
              "      <td>Henderson</td>\n",
              "      <td>Kentucky</td>\n",
              "      <td>42420</td>\n",
              "      <td>South</td>\n",
              "      <td>Furniture</td>\n",
              "      <td>Bookcases</td>\n",
              "      <td>261.9600</td>\n",
              "      <td>2</td>\n",
              "      <td>0.00</td>\n",
              "      <td>41.9136</td>\n",
              "    </tr>\n",
              "    <tr>\n",
              "      <th>1</th>\n",
              "      <td>Second Class</td>\n",
              "      <td>Consumer</td>\n",
              "      <td>United States</td>\n",
              "      <td>Henderson</td>\n",
              "      <td>Kentucky</td>\n",
              "      <td>42420</td>\n",
              "      <td>South</td>\n",
              "      <td>Furniture</td>\n",
              "      <td>Chairs</td>\n",
              "      <td>731.9400</td>\n",
              "      <td>3</td>\n",
              "      <td>0.00</td>\n",
              "      <td>219.5820</td>\n",
              "    </tr>\n",
              "    <tr>\n",
              "      <th>2</th>\n",
              "      <td>Second Class</td>\n",
              "      <td>Corporate</td>\n",
              "      <td>United States</td>\n",
              "      <td>Los Angeles</td>\n",
              "      <td>California</td>\n",
              "      <td>90036</td>\n",
              "      <td>West</td>\n",
              "      <td>Office Supplies</td>\n",
              "      <td>Labels</td>\n",
              "      <td>14.6200</td>\n",
              "      <td>2</td>\n",
              "      <td>0.00</td>\n",
              "      <td>6.8714</td>\n",
              "    </tr>\n",
              "    <tr>\n",
              "      <th>3</th>\n",
              "      <td>Standard Class</td>\n",
              "      <td>Consumer</td>\n",
              "      <td>United States</td>\n",
              "      <td>Fort Lauderdale</td>\n",
              "      <td>Florida</td>\n",
              "      <td>33311</td>\n",
              "      <td>South</td>\n",
              "      <td>Furniture</td>\n",
              "      <td>Tables</td>\n",
              "      <td>957.5775</td>\n",
              "      <td>5</td>\n",
              "      <td>0.45</td>\n",
              "      <td>-383.0310</td>\n",
              "    </tr>\n",
              "    <tr>\n",
              "      <th>4</th>\n",
              "      <td>Standard Class</td>\n",
              "      <td>Consumer</td>\n",
              "      <td>United States</td>\n",
              "      <td>Fort Lauderdale</td>\n",
              "      <td>Florida</td>\n",
              "      <td>33311</td>\n",
              "      <td>South</td>\n",
              "      <td>Office Supplies</td>\n",
              "      <td>Storage</td>\n",
              "      <td>22.3680</td>\n",
              "      <td>2</td>\n",
              "      <td>0.20</td>\n",
              "      <td>2.5164</td>\n",
              "    </tr>\n",
              "  </tbody>\n",
              "</table>\n",
              "</div>"
            ],
            "text/plain": [
              "        Ship Mode    Segment        Country  ... Quantity Discount    Profit\n",
              "0    Second Class   Consumer  United States  ...        2     0.00   41.9136\n",
              "1    Second Class   Consumer  United States  ...        3     0.00  219.5820\n",
              "2    Second Class  Corporate  United States  ...        2     0.00    6.8714\n",
              "3  Standard Class   Consumer  United States  ...        5     0.45 -383.0310\n",
              "4  Standard Class   Consumer  United States  ...        2     0.20    2.5164\n",
              "\n",
              "[5 rows x 13 columns]"
            ]
          },
          "metadata": {
            "tags": []
          },
          "execution_count": 41
        }
      ]
    },
    {
      "cell_type": "markdown",
      "metadata": {
        "id": "ueZ9mjUZ1Gke",
        "colab_type": "text"
      },
      "source": [
        "**Creating New column to get more insight**"
      ]
    },
    {
      "cell_type": "code",
      "metadata": {
        "id": "wORd85AyDDBD",
        "colab_type": "code",
        "colab": {
          "base_uri": "https://localhost:8080/",
          "height": 195
        },
        "outputId": "6131d4b9-9fea-40ea-e145-ae954fe59994"
      },
      "source": [
        "#creating new column to get more information\n",
        "data['Sale per item'] = data['Sales']/data['Quantity']\n",
        "data.head(5)\n"
      ],
      "execution_count": null,
      "outputs": [
        {
          "output_type": "execute_result",
          "data": {
            "text/html": [
              "<div>\n",
              "<style scoped>\n",
              "    .dataframe tbody tr th:only-of-type {\n",
              "        vertical-align: middle;\n",
              "    }\n",
              "\n",
              "    .dataframe tbody tr th {\n",
              "        vertical-align: top;\n",
              "    }\n",
              "\n",
              "    .dataframe thead th {\n",
              "        text-align: right;\n",
              "    }\n",
              "</style>\n",
              "<table border=\"1\" class=\"dataframe\">\n",
              "  <thead>\n",
              "    <tr style=\"text-align: right;\">\n",
              "      <th></th>\n",
              "      <th>Ship Mode</th>\n",
              "      <th>Segment</th>\n",
              "      <th>Country</th>\n",
              "      <th>City</th>\n",
              "      <th>State</th>\n",
              "      <th>Postal Code</th>\n",
              "      <th>Region</th>\n",
              "      <th>Category</th>\n",
              "      <th>Sub-Category</th>\n",
              "      <th>Sales</th>\n",
              "      <th>Quantity</th>\n",
              "      <th>Discount</th>\n",
              "      <th>Profit</th>\n",
              "      <th>Sale per item</th>\n",
              "    </tr>\n",
              "  </thead>\n",
              "  <tbody>\n",
              "    <tr>\n",
              "      <th>0</th>\n",
              "      <td>Second Class</td>\n",
              "      <td>Consumer</td>\n",
              "      <td>United States</td>\n",
              "      <td>Henderson</td>\n",
              "      <td>Kentucky</td>\n",
              "      <td>42420</td>\n",
              "      <td>South</td>\n",
              "      <td>Furniture</td>\n",
              "      <td>Bookcases</td>\n",
              "      <td>261.9600</td>\n",
              "      <td>2</td>\n",
              "      <td>0.00</td>\n",
              "      <td>41.9136</td>\n",
              "      <td>130.9800</td>\n",
              "    </tr>\n",
              "    <tr>\n",
              "      <th>1</th>\n",
              "      <td>Second Class</td>\n",
              "      <td>Consumer</td>\n",
              "      <td>United States</td>\n",
              "      <td>Henderson</td>\n",
              "      <td>Kentucky</td>\n",
              "      <td>42420</td>\n",
              "      <td>South</td>\n",
              "      <td>Furniture</td>\n",
              "      <td>Chairs</td>\n",
              "      <td>731.9400</td>\n",
              "      <td>3</td>\n",
              "      <td>0.00</td>\n",
              "      <td>219.5820</td>\n",
              "      <td>243.9800</td>\n",
              "    </tr>\n",
              "    <tr>\n",
              "      <th>2</th>\n",
              "      <td>Second Class</td>\n",
              "      <td>Corporate</td>\n",
              "      <td>United States</td>\n",
              "      <td>Los Angeles</td>\n",
              "      <td>California</td>\n",
              "      <td>90036</td>\n",
              "      <td>West</td>\n",
              "      <td>Office Supplies</td>\n",
              "      <td>Labels</td>\n",
              "      <td>14.6200</td>\n",
              "      <td>2</td>\n",
              "      <td>0.00</td>\n",
              "      <td>6.8714</td>\n",
              "      <td>7.3100</td>\n",
              "    </tr>\n",
              "    <tr>\n",
              "      <th>3</th>\n",
              "      <td>Standard Class</td>\n",
              "      <td>Consumer</td>\n",
              "      <td>United States</td>\n",
              "      <td>Fort Lauderdale</td>\n",
              "      <td>Florida</td>\n",
              "      <td>33311</td>\n",
              "      <td>South</td>\n",
              "      <td>Furniture</td>\n",
              "      <td>Tables</td>\n",
              "      <td>957.5775</td>\n",
              "      <td>5</td>\n",
              "      <td>0.45</td>\n",
              "      <td>-383.0310</td>\n",
              "      <td>191.5155</td>\n",
              "    </tr>\n",
              "    <tr>\n",
              "      <th>4</th>\n",
              "      <td>Standard Class</td>\n",
              "      <td>Consumer</td>\n",
              "      <td>United States</td>\n",
              "      <td>Fort Lauderdale</td>\n",
              "      <td>Florida</td>\n",
              "      <td>33311</td>\n",
              "      <td>South</td>\n",
              "      <td>Office Supplies</td>\n",
              "      <td>Storage</td>\n",
              "      <td>22.3680</td>\n",
              "      <td>2</td>\n",
              "      <td>0.20</td>\n",
              "      <td>2.5164</td>\n",
              "      <td>11.1840</td>\n",
              "    </tr>\n",
              "  </tbody>\n",
              "</table>\n",
              "</div>"
            ],
            "text/plain": [
              "        Ship Mode    Segment        Country  ... Discount    Profit  Sale per item\n",
              "0    Second Class   Consumer  United States  ...     0.00   41.9136       130.9800\n",
              "1    Second Class   Consumer  United States  ...     0.00  219.5820       243.9800\n",
              "2    Second Class  Corporate  United States  ...     0.00    6.8714         7.3100\n",
              "3  Standard Class   Consumer  United States  ...     0.45 -383.0310       191.5155\n",
              "4  Standard Class   Consumer  United States  ...     0.20    2.5164        11.1840\n",
              "\n",
              "[5 rows x 14 columns]"
            ]
          },
          "metadata": {
            "tags": []
          },
          "execution_count": 42
        }
      ]
    },
    {
      "cell_type": "markdown",
      "metadata": {
        "id": "dIdsvsC8nxKD",
        "colab_type": "text"
      },
      "source": [
        "**As it can be seen that sales are given for respective quantities, sale per quantity specifies price per product.**"
      ]
    },
    {
      "cell_type": "markdown",
      "metadata": {
        "id": "O7zBLdxK1eX7",
        "colab_type": "text"
      },
      "source": [
        "**Creating new column of percent profit**"
      ]
    },
    {
      "cell_type": "code",
      "metadata": {
        "id": "UVgRfi2QEigf",
        "colab_type": "code",
        "colab": {
          "base_uri": "https://localhost:8080/",
          "height": 195
        },
        "outputId": "5ca14cbe-132d-4172-dd3e-ae23ab8ae8a7"
      },
      "source": [
        "#Calculating percent profit\n",
        "\n",
        "data['Percent profit'] = abs((data['Profit']*100)/data['Sale per item'])\n",
        "\n",
        "\n",
        "data.sort_values(by = ['Percent profit'])\n",
        "data.head(5)"
      ],
      "execution_count": null,
      "outputs": [
        {
          "output_type": "execute_result",
          "data": {
            "text/html": [
              "<div>\n",
              "<style scoped>\n",
              "    .dataframe tbody tr th:only-of-type {\n",
              "        vertical-align: middle;\n",
              "    }\n",
              "\n",
              "    .dataframe tbody tr th {\n",
              "        vertical-align: top;\n",
              "    }\n",
              "\n",
              "    .dataframe thead th {\n",
              "        text-align: right;\n",
              "    }\n",
              "</style>\n",
              "<table border=\"1\" class=\"dataframe\">\n",
              "  <thead>\n",
              "    <tr style=\"text-align: right;\">\n",
              "      <th></th>\n",
              "      <th>Ship Mode</th>\n",
              "      <th>Segment</th>\n",
              "      <th>Country</th>\n",
              "      <th>City</th>\n",
              "      <th>State</th>\n",
              "      <th>Postal Code</th>\n",
              "      <th>Region</th>\n",
              "      <th>Category</th>\n",
              "      <th>Sub-Category</th>\n",
              "      <th>Sales</th>\n",
              "      <th>Quantity</th>\n",
              "      <th>Discount</th>\n",
              "      <th>Profit</th>\n",
              "      <th>Sale per item</th>\n",
              "      <th>Percent profit</th>\n",
              "    </tr>\n",
              "  </thead>\n",
              "  <tbody>\n",
              "    <tr>\n",
              "      <th>0</th>\n",
              "      <td>Second Class</td>\n",
              "      <td>Consumer</td>\n",
              "      <td>United States</td>\n",
              "      <td>Henderson</td>\n",
              "      <td>Kentucky</td>\n",
              "      <td>42420</td>\n",
              "      <td>South</td>\n",
              "      <td>Furniture</td>\n",
              "      <td>Bookcases</td>\n",
              "      <td>261.9600</td>\n",
              "      <td>2</td>\n",
              "      <td>0.00</td>\n",
              "      <td>41.9136</td>\n",
              "      <td>130.9800</td>\n",
              "      <td>32.0</td>\n",
              "    </tr>\n",
              "    <tr>\n",
              "      <th>1</th>\n",
              "      <td>Second Class</td>\n",
              "      <td>Consumer</td>\n",
              "      <td>United States</td>\n",
              "      <td>Henderson</td>\n",
              "      <td>Kentucky</td>\n",
              "      <td>42420</td>\n",
              "      <td>South</td>\n",
              "      <td>Furniture</td>\n",
              "      <td>Chairs</td>\n",
              "      <td>731.9400</td>\n",
              "      <td>3</td>\n",
              "      <td>0.00</td>\n",
              "      <td>219.5820</td>\n",
              "      <td>243.9800</td>\n",
              "      <td>90.0</td>\n",
              "    </tr>\n",
              "    <tr>\n",
              "      <th>2</th>\n",
              "      <td>Second Class</td>\n",
              "      <td>Corporate</td>\n",
              "      <td>United States</td>\n",
              "      <td>Los Angeles</td>\n",
              "      <td>California</td>\n",
              "      <td>90036</td>\n",
              "      <td>West</td>\n",
              "      <td>Office Supplies</td>\n",
              "      <td>Labels</td>\n",
              "      <td>14.6200</td>\n",
              "      <td>2</td>\n",
              "      <td>0.00</td>\n",
              "      <td>6.8714</td>\n",
              "      <td>7.3100</td>\n",
              "      <td>94.0</td>\n",
              "    </tr>\n",
              "    <tr>\n",
              "      <th>3</th>\n",
              "      <td>Standard Class</td>\n",
              "      <td>Consumer</td>\n",
              "      <td>United States</td>\n",
              "      <td>Fort Lauderdale</td>\n",
              "      <td>Florida</td>\n",
              "      <td>33311</td>\n",
              "      <td>South</td>\n",
              "      <td>Furniture</td>\n",
              "      <td>Tables</td>\n",
              "      <td>957.5775</td>\n",
              "      <td>5</td>\n",
              "      <td>0.45</td>\n",
              "      <td>-383.0310</td>\n",
              "      <td>191.5155</td>\n",
              "      <td>200.0</td>\n",
              "    </tr>\n",
              "    <tr>\n",
              "      <th>4</th>\n",
              "      <td>Standard Class</td>\n",
              "      <td>Consumer</td>\n",
              "      <td>United States</td>\n",
              "      <td>Fort Lauderdale</td>\n",
              "      <td>Florida</td>\n",
              "      <td>33311</td>\n",
              "      <td>South</td>\n",
              "      <td>Office Supplies</td>\n",
              "      <td>Storage</td>\n",
              "      <td>22.3680</td>\n",
              "      <td>2</td>\n",
              "      <td>0.20</td>\n",
              "      <td>2.5164</td>\n",
              "      <td>11.1840</td>\n",
              "      <td>22.5</td>\n",
              "    </tr>\n",
              "  </tbody>\n",
              "</table>\n",
              "</div>"
            ],
            "text/plain": [
              "        Ship Mode    Segment  ... Sale per item Percent profit\n",
              "0    Second Class   Consumer  ...      130.9800           32.0\n",
              "1    Second Class   Consumer  ...      243.9800           90.0\n",
              "2    Second Class  Corporate  ...        7.3100           94.0\n",
              "3  Standard Class   Consumer  ...      191.5155          200.0\n",
              "4  Standard Class   Consumer  ...       11.1840           22.5\n",
              "\n",
              "[5 rows x 15 columns]"
            ]
          },
          "metadata": {
            "tags": []
          },
          "execution_count": 43
        }
      ]
    },
    {
      "cell_type": "markdown",
      "metadata": {
        "id": "CaONUIC91v_F",
        "colab_type": "text"
      },
      "source": [
        "**Calculating Regionwise profit**"
      ]
    },
    {
      "cell_type": "code",
      "metadata": {
        "id": "uaDTAxTY6FBy",
        "colab_type": "code",
        "colab": {
          "base_uri": "https://localhost:8080/",
          "height": 350
        },
        "outputId": "d04f8559-0d3e-4444-e5f6-ae6a6f4b852e"
      },
      "source": [
        "#Region wise profit\n",
        "fig = plt.figure(figsize = (10, 5))\n",
        "plt.bar(data['Region'],data['Percent profit'])\n",
        "plt.xlabel(\"Region\") \n",
        "plt.ylabel(\"Percent Profit\") \n",
        "plt.title(\"Regionwise profit\")\n",
        "plt.show()"
      ],
      "execution_count": null,
      "outputs": [
        {
          "output_type": "display_data",
          "data": {
            "image/png": "[encoded data removed]",
            "text/plain": [
              "<Figure size 720x360 with 1 Axes>"
            ]
          },
          "metadata": {
            "tags": [],
            "needs_background": "light"
          }
        }
      ]
    },
    {
      "cell_type": "markdown",
      "metadata": {
        "id": "liFQnYfdlTnZ",
        "colab_type": "text"
      },
      "source": [
        "**It can be clearly seen that central region has more percentage profit.** "
      ]
    },
    {
      "cell_type": "markdown",
      "metadata": {
        "id": "7rXHKm6a2R6h",
        "colab_type": "text"
      },
      "source": [
        "**Now let us see categorywise profit**"
      ]
    },
    {
      "cell_type": "code",
      "metadata": {
        "id": "Jb1GtALDlssZ",
        "colab_type": "code",
        "colab": {
          "base_uri": "https://localhost:8080/",
          "height": 350
        },
        "outputId": "a11886da-4b32-4e4a-c71d-39f9b9dfe81d"
      },
      "source": [
        "#Categorywise profit\n",
        "fig = plt.figure(figsize = (10, 5))\n",
        "plt.bar(data['Category'],data['Percent profit'])\n",
        "plt.xlabel(\"Category\") \n",
        "plt.ylabel(\"Percent Profit\") \n",
        "plt.title(\"Categorywise profit\")\n",
        "plt.show()"
      ],
      "execution_count": null,
      "outputs": [
        {
          "output_type": "display_data",
          "data": {
            "image/png": "[encoded data removed]",
            "text/plain": [
              "<Figure size 720x360 with 1 Axes>"
            ]
          },
          "metadata": {
            "tags": [],
            "needs_background": "light"
          }
        }
      ]
    },
    {
      "cell_type": "markdown",
      "metadata": {
        "id": "gCpcpLFl2xCF",
        "colab_type": "text"
      },
      "source": [
        "**\"Office Supplies\" Category is highest**"
      ]
    },
    {
      "cell_type": "markdown",
      "metadata": {
        "id": "GC2g7O_Z2-cX",
        "colab_type": "text"
      },
      "source": [
        "**Now that we have category wise highest profit, let us find out which subcategory is having highest profit**"
      ]
    },
    {
      "cell_type": "code",
      "metadata": {
        "id": "2nYPhrPkmj0F",
        "colab_type": "code",
        "colab": {
          "base_uri": "https://localhost:8080/",
          "height": 388
        },
        "outputId": "9b72c9f0-68f6-4cd8-ca09-b72a5610ec55"
      },
      "source": [
        "#Sub-Categorywise profit\n",
        "fig = plt.figure(figsize = (10, 5))\n",
        "plt.bar(data['Sub-Category'],data['Percent profit'])\n",
        "plt.xlabel(\"Sub-Category\") \n",
        "plt.ylabel(\"Percent Profit\") \n",
        "plt.title(\"Sub-Categorywise profit\")\n",
        "plt.xticks(rotation=45)\n",
        "plt.show()"
      ],
      "execution_count": null,
      "outputs": [
        {
          "output_type": "display_data",
          "data": {
            "image/png": "[encoded data removed]",
            "text/plain": [
              "<Figure size 720x360 with 1 Axes>"
            ]
          },
          "metadata": {
            "tags": [],
            "needs_background": "light"
          }
        }
      ]
    },
    {
      "cell_type": "markdown",
      "metadata": {
        "id": "yTDjB195pkXS",
        "colab_type": "text"
      },
      "source": [
        "**From the category vs profit plot it can be clearly seen that \"Office supplies\" has highest profit. This plot tells us that \"binders\" has the highest profit which is also an item of office supplies. Therefore, Office supplies has highest profit.**"
      ]
    },
    {
      "cell_type": "markdown",
      "metadata": {
        "id": "Xkv4B2LO3xKn",
        "colab_type": "text"
      },
      "source": [
        "**Now that we have seen profits with various parameters, let us have a general look at other parameters of dataset.**"
      ]
    },
    {
      "cell_type": "markdown",
      "metadata": {
        "id": "llqu3RZb4ABX",
        "colab_type": "text"
      },
      "source": [
        "**Let us have a survey of shipping mode used by people.**"
      ]
    },
    {
      "cell_type": "code",
      "metadata": {
        "id": "Mm5ESFo7rmTm",
        "colab_type": "code",
        "colab": {
          "base_uri": "https://localhost:8080/",
          "height": 458
        },
        "outputId": "fab58ad4-621f-4a12-ad6c-dae17edcb599"
      },
      "source": [
        "#Identifying most used class\n",
        "fig, ax = plt.subplots(figsize =(10, 7))\n",
        "ax.hist(data['Ship Mode'])\n",
        "plt.xlabel(\"Shipping mode\") \n",
        "plt.ylabel(\"Frequency\") \n",
        "plt.title('Frequency of shipping modes')\n",
        "plt.show()"
      ],
      "execution_count": null,
      "outputs": [
        {
          "output_type": "display_data",
          "data": {
            "image/png": "[encoded data removed]",
            "text/plain": [
              "<Figure size 720x504 with 1 Axes>"
            ]
          },
          "metadata": {
            "tags": [],
            "needs_background": "light"
          }
        }
      ]
    },
    {
      "cell_type": "markdown",
      "metadata": {
        "id": "5X3MdjFr4QeV",
        "colab_type": "text"
      },
      "source": [
        "**It seems that most of the people prefer \"Standard Class\" as their shipping mode**"
      ]
    },
    {
      "cell_type": "markdown",
      "metadata": {
        "id": "JD_hoR1w4g3P",
        "colab_type": "text"
      },
      "source": [
        "**Now, let us have a look on which segment is mostly involved with superstore**"
      ]
    },
    {
      "cell_type": "code",
      "metadata": {
        "id": "ihJNy7DStDMK",
        "colab_type": "code",
        "colab": {
          "base_uri": "https://localhost:8080/",
          "height": 458
        },
        "outputId": "7641358d-de12-4fa3-db6e-6e9ccea24132"
      },
      "source": [
        "#Segment involved\n",
        "\n",
        "fig = plt.figure(figsize =(5, 7))\n",
        "plt.hist(data['Segment'])\n",
        "plt.xlabel(\"Segment\") \n",
        "plt.ylabel(\"Frequency\") \n",
        "plt.title('Frequency of Segment')\n",
        "\n",
        "plt.show()"
      ],
      "execution_count": null,
      "outputs": [
        {
          "output_type": "display_data",
          "data": {
            "image/png": "[encoded data removed]",
            "text/plain": [
              "<Figure size 360x504 with 1 Axes>"
            ]
          },
          "metadata": {
            "tags": [],
            "needs_background": "light"
          }
        }
      ]
    },
    {
      "cell_type": "markdown",
      "metadata": {
        "id": "wUfIAwYM4uqn",
        "colab_type": "text"
      },
      "source": [
        "**\"Consumer segment is major contributor of superstore\"**"
      ]
    },
    {
      "cell_type": "markdown",
      "metadata": {
        "id": "_4DJakWL5CG2",
        "colab_type": "text"
      },
      "source": [
        "**In conclusion, analysis of this superstore reveals various facts that should be considered to make improvement in various areas of the superstore.**"
      ]
    }
  ]
}